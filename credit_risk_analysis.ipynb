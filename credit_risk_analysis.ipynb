{
 "cells": [
  {
   "cell_type": "code",
   "execution_count": null,
   "id": "a777387a-5b43-4d37-85b2-b610fd96dde8",
   "metadata": {},
   "outputs": [],
   "source": [
    "# 💳 Credit Risk Prediction using Machine Learning\n",
    "A data science project that analyzes loan applicants' risk profiles and builds predictive models to classify loan default risk.  \n",
    "By **Bora Anik** | April 2025\n",
    "\n",
    "**Goals:**\n",
    "- Perform exploratory data analysis (EDA)\n",
    "- Build predictive models to assess credit risk\n",
    "- Visualize insights and model performance"
   ]
  },
  {
   "cell_type": "code",
   "execution_count": null,
   "id": "a1c89b2f-b193-42f2-ba28-d1dff2190536",
   "metadata": {},
   "outputs": [],
   "source": [
    "# Import core libraries\n",
    "import pandas as pd\n",
    "import numpy as np\n",
    "import matplotlib.pyplot as plt\n",
    "import seaborn as sns\n",
    "\n",
    "# Machine learning\n",
    "from sklearn.model_selection import train_test_split\n",
    "from sklearn.ensemble import RandomForestClassifier\n",
    "from sklearn.metrics import classification_report, confusion_matrix\n",
    "\n",
    "# Display settings\n",
    "sns.set(style=\"whitegrid\")\n",
    "plt.rcParams[\"figure.figsize\"] = (10, 6)\n",
    "\n",
    "print(\"All libraries loaded successfully.\")"
   ]
  },
  {
   "cell_type": "code",
   "execution_count": null,
   "id": "f288cda5-58e7-46f3-9e9e-6f78cf863377",
   "metadata": {},
   "outputs": [],
   "source": [
    "## 📁 Step 1: Load and Explore the Dataset\n",
    "\n",
    "For this project, we'll use the German Credit Risk dataset.  \n",
    "You can download it from [UCI Machine Learning Repository](https://archive.ics.uci.edu/ml/datasets/statlog+(german+credit+data)) or use any similar credit scoring dataset from Kaggle.\n",
    "\n",
    "**If you're ready**, place your dataset CSV in the same folder as this notebook and name it `credit_data.csv`."
   ]
  },
  {
   "cell_type": "code",
   "execution_count": null,
   "id": "2c0fd2f0-ebab-4af4-aa91-699327249374",
   "metadata": {},
   "outputs": [],
   "source": [
    "# Load dataset (make sure 'credit_data.csv' is in your project folder)\n",
    "try:\n",
    "    df = pd.read_csv(\"credit_data.csv\")\n",
    "    display(df.head())\n",
    "except FileNotFoundError:\n",
    "    print(\"⚠️ Dataset not found. Please make sure 'credit_data.csv' is in the project folder.\")"
   ]
  }
 ],
 "metadata": {
  "kernelspec": {
   "display_name": "Python 3 (ipykernel)",
   "language": "python",
   "name": "python3"
  },
  "language_info": {
   "codemirror_mode": {
    "name": "ipython",
    "version": 3
   },
   "file_extension": ".py",
   "mimetype": "text/x-python",
   "name": "python",
   "nbconvert_exporter": "python",
   "pygments_lexer": "ipython3",
   "version": "3.9.6"
  }
 },
 "nbformat": 4,
 "nbformat_minor": 5
}
